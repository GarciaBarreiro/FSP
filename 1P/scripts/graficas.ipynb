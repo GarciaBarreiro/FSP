{
 "cells": [
  {
   "cell_type": "code",
   "execution_count": null,
   "metadata": {},
   "outputs": [],
   "source": [
    "import pandas as pd\n",
    "import matplotlib.pyplot as plt\n",
    "import numpy as np\n",
    "import time\n",
    "from ..scripts import graphs\n",
    "from tqdm import tqdm\n",
    "\n",
    "# Parámetros fijos\n",
    "fichero = '../1P/out_trapezoids/output-new.csv'\n",
    "data = read_csv(filename=fichero)\n",
    "\n",
    "# Crear DataFrames con los resultados\n",
    "df_resultados = pd.DataFrame(data, columns=['Nodos', 'CPUs', 'Tempo', 'Erro', 'Calidade'])\n",
    "\n",
    "# Imprimir las tablas de resultados\n",
    "print(\"\\nTabla de Resultados:\")\n",
    "print(df_resultados.to_string(index=False))\n",
    "\n",
    "# Crear gráficos bidimensionales con un tamaño específico\n",
    "#fig, (ax_indiv, ax_cromo) = plt.subplots(1, 2, figsize=(12, 5))\n",
    "#\n",
    "## Obtener los datos para los gráficos\n",
    "#x_indiv = df_resultados_indiv['Prob. Mutación']\n",
    "#y_indiv = df_resultados_indiv['Coste Promedio']\n",
    "#error_indiv = df_resultados_indiv['Desviación Estándar']\n",
    "#\n",
    "#x_cromo = df_resultados_cromo['Prob. Mutación']\n",
    "#y_cromo = df_resultados_cromo['Coste Promedio']\n",
    "#error_cromo = df_resultados_cromo['Desviación Estándar']\n",
    "#\n",
    "## Gráfico para Mutación Individual\n",
    "#ax_indiv.errorbar(x_indiv, y_indiv, yerr=error_indiv, color='b', marker='o', label='Mutación Individual')\n",
    "#ax_indiv.set_xlabel('Probabilidad de Mutación')\n",
    "#ax_indiv.set_ylabel('Coste Promedio')\n",
    "#ax_indiv.set_title('Mutación Individual')\n",
    "#\n",
    "## Gráfico para Mutación Cromosómica\n",
    "#ax_cromo.errorbar(x_cromo, y_cromo, yerr=error_cromo, color='r', marker='o', label='Mutación Cromosómica')\n",
    "#ax_cromo.set_xlabel('Probabilidad de Mutación')\n",
    "#ax_cromo.set_ylabel('Coste Promedio')\n",
    "#ax_cromo.set_title('Mutación Cromosómica')\n",
    "#\n",
    "#plt.suptitle('Coste Promedio en función de la Probabilidad de Mutación y Tipo de Mutación', y=1.05)\n",
    "#\n",
    "#plt.tight_layout()\n",
    "#### ANÁLISIS 2: Algoritmo de Mutación y la Probabibilidad de Mutación\n",
    "#\n",
    "#Una vez analizados los algoritmos de reemplazo, pasaremos a analizar la mutación. Para ello, variaremos la probabilidad de mutación y contrastaremos los resultados obtenidos para cada probabibilidad con ambos algoritmos buscando optimizar coste temporal y de soluciones.plt.show()"
   ]
  }
 ],
 "metadata": {
  "language_info": {
   "name": "python"
  },
  "orig_nbformat": 4
 },
 "nbformat": 4,
 "nbformat_minor": 2
}
